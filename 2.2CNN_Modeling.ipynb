{
 "cells": [
  {
   "cell_type": "markdown",
   "metadata": {},
   "source": [
    "## Import Libraries"
   ]
  },
  {
   "cell_type": "code",
   "execution_count": 1,
   "metadata": {},
   "outputs": [],
   "source": [
    "import matplotlib.pyplot as plt \n",
    "import numpy as np \n",
    "import os \n",
    "import cv2\n",
    "import random\n",
    "import tensorflow as tf\n",
    "from tensorflow.keras.models import Sequential\n",
    "from tensorflow.keras.layers import Dense, Dropout, Activation, Flatten, Conv2D, MaxPooling2D, GlobalAveragePooling2D\n",
    "from tensorflow.keras.preprocessing.image import ImageDataGenerator\n",
    "from tensorflow.keras.preprocessing import image\n",
    "from tensorflow.keras import utils\n",
    "from tensorflow.keras.callbacks import EarlyStopping\n",
    "import pandas as pd\n",
    "import seaborn as sns\n",
    "import pickle\n",
    "from sklearn.metrics import confusion_matrix\n",
    "import itertools\n",
    "\n",
    "%matplotlib inline\n"
   ]
  },
  {
   "cell_type": "markdown",
   "metadata": {},
   "source": [
    "## Define Functions"
   ]
  },
  {
   "cell_type": "code",
   "execution_count": null,
   "metadata": {},
   "outputs": [],
   "source": [
    "def plot_results(mod_history, metric, epochs):\n",
    "      \n",
    "      # Check out our train loss and test loss over epochs.\n",
    "      train_metric = mod_history.history[metric]\n",
    "      val = 'val_' + metric\n",
    "      test_metric = mod_history.history[val]\n",
    "\n",
    "      # Set figure size.\n",
    "      plt.figure(figsize=(12, 8))\n",
    "\n",
    "      # Generate line plot of training, testing loss over epochs.\n",
    "      plt.plot(train_metric, label=f'Training {metric}', color='#185fad')\n",
    "      plt.plot(test_metric, label=f'Testing {metric}', color='orange')\n",
    "\n",
    "      # Set title\n",
    "      plt.title(f'Training and Testing {metric} by Epoch', fontsize = 25)\n",
    "      plt.xlabel('Epoch', fontsize = 18)\n",
    "      plt.ylabel('Categorical Crossentropy', fontsize = 18)\n",
    "      plt.xticks(range(0,epochs,5), range(0,epochs,5))\n",
    "      plt.legend(fontsize = 18);"
   ]
  },
  {
   "cell_type": "code",
   "execution_count": null,
   "metadata": {},
   "outputs": [],
   "source": [
    "def make_predictions(mod_name, steps=20):\n",
    "    preds = mod_name.predict(X_test,steps=steps)\n",
    "    preds = preds.argmax(axis=-1)\n",
    "\n",
    "    y_test_labels = np.argmax(y_test, axis=-1)\n",
    "\n",
    "    cm = confusion_matrix(y_test_labels,preds)\n",
    "\n",
    "    plot_confusion_matrix(cm, cm_plot_labels, normalize=True,\n",
    "                          title='Face Shape Normalized')\n",
    "\n",
    "    plt.show()\n",
    "\n"
   ]
  },
  {
   "cell_type": "code",
   "execution_count": null,
   "metadata": {},
   "outputs": [],
   "source": [
    "cm_plot_labels = ['Heart','Oblong','Oval','Round', 'Square']\n",
    "\n",
    "def plot_confusion_matrix(cm, classes,\n",
    "                          normalize=False,\n",
    "                          title='Confusion matrix',\n",
    "                          cmap=plt.cm.Blues):\n",
    "    \"\"\"\n",
    "    This function prints and plots the confusion matrix.\n",
    "    Normalization can be applied by setting `normalize=True`.\n",
    "    \"\"\"\n",
    "    if normalize:\n",
    "        cm = cm.astype('float') / cm.sum(axis=1)[:, np.newaxis]\n",
    "        print(\"Normalized confusion matrix\")\n",
    "    else:\n",
    "        print('Confusion matrix, without normalization')\n",
    "\n",
    "    print(cm)\n",
    "\n",
    "    plt.figure(figsize=(16,8))\n",
    "    plt.imshow(cm, interpolation='nearest', cmap=cmap)\n",
    "    plt.title(title)\n",
    "    plt.colorbar()\n",
    "    tick_marks = np.arange(len(classes))\n",
    "    plt.xticks(tick_marks, classes, rotation=45)\n",
    "    plt.yticks(tick_marks, classes)\n",
    "\n",
    "    fmt = '.2f' if normalize else 'd'\n",
    "    thresh = cm.max() / 2.\n",
    "    for i, j in itertools.product(range(cm.shape[0]), range(cm.shape[1])):\n",
    "        plt.text(j, i, format(cm[i, j], fmt),\n",
    "                 horizontalalignment=\"center\",\n",
    "                 color=\"white\" if cm[i, j] > thresh else \"black\")\n",
    "\n",
    "    plt.tight_layout()\n",
    "    plt.ylabel('True label')\n",
    "    plt.xlabel('Predicted label')\n"
   ]
  },
  {
   "cell_type": "code",
   "execution_count": null,
   "metadata": {},
   "outputs": [],
   "source": [
    "def plot_summary_results(mod_name, mod_history, epochs):\n",
    "    plot_results(mod_history, 'loss',epochs)\n",
    "    plot_results(mod_history, 'accuracy', epochs)\n",
    "    make_predictions(mod_name)"
   ]
  },
  {
   "cell_type": "markdown",
   "metadata": {},
   "source": [
    "## Model: RGB COLOR Images - Detect Using Bounding Box"
   ]
  },
  {
   "cell_type": "code",
   "execution_count": null,
   "metadata": {},
   "outputs": [],
   "source": [
    "path = \"\"\n",
    "\n",
    "X_train = np.asarray(pickle.load(open(path + \"X_train_rgb.pickle\",\"rb\")))\n",
    "y_train = np.asarray(pickle.load(open(path + \"y_train_rgb.pickle\",\"rb\")))\n",
    "X_test = np.asarray(pickle.load(open(path + \"X_test_rgb.pickle\",\"rb\")))\n",
    "y_test = np.asarray(pickle.load(open(path + \"y_test_rgb.pickle\",\"rb\")))"
   ]
  },
  {
   "cell_type": "code",
   "execution_count": null,
   "metadata": {},
   "outputs": [],
   "source": [
    "print(\"Data Summary\")\n",
    "print(\"--------------------\")\n",
    "print(f\"X_train shape {X_train.shape}\")\n",
    "print(f\"y_train shape {y_train.shape}\")\n",
    "print(\"--------------------\")\n",
    "print(f\"X_test shape {X_test.shape}\")\n",
    "print(f\"y_test shape {y_test.shape}\")\n"
   ]
  },
  {
   "cell_type": "code",
   "execution_count": null,
   "metadata": {},
   "outputs": [],
   "source": [
    "model_4 = Sequential()\n",
    "model_4.add(Conv2D(filters = 8,              # add this layer\n",
    "                   kernel_size=3,\n",
    "                   activation='relu',\n",
    "                   input_shape=X_train.shape[1:]))\n",
    "model_4.add(MaxPooling2D(pool_size=(2,2)))\n",
    "model_4.add(Conv2D(filters = 16,              # from 64\n",
    "                   kernel_size=3,\n",
    "                   activation='relu'))\n",
    "model_4.add(MaxPooling2D(pool_size=(2,2)))\n",
    "model_4.add(Conv2D(filters = 64,             # from 128\n",
    "                   kernel_size=3,\n",
    "                   activation='relu'))\n",
    "model_4.add(MaxPooling2D(pool_size=(2, 2)))\n",
    "model_4.add(Conv2D(filters = 128,            # from 256\n",
    "                   kernel_size=3,\n",
    "                   activation='relu'))\n",
    "model_4.add(MaxPooling2D(pool_size=(2, 2)))\n",
    "model_4.add(Flatten())\n",
    "model_4.add(Dense(32, activation='relu'))    # reduce from 128 to 64 to 32\n",
    "model_4.add(Dropout(0.5))  ##added\n",
    "model_4.add(Dense(5, activation='softmax'))\n",
    "\n",
    "model_4.compile(loss='categorical_crossentropy',\n",
    "                optimizer='adam',\n",
    "                metrics=['accuracy'])\n",
    "\n",
    "model_4.summary()"
   ]
  },
  {
   "cell_type": "code",
   "execution_count": null,
   "metadata": {},
   "outputs": [],
   "source": [
    "history_4 = model_4.fit(X_train,\n",
    "                        y_train,\n",
    "                        batch_size=32,\n",
    "                        epochs=250,\n",
    "                        validation_data=(X_test, y_test)) #,\n",
    "                        #callbacks=[early_stop])"
   ]
  },
  {
   "cell_type": "code",
   "execution_count": null,
   "metadata": {},
   "outputs": [],
   "source": [
    "# max validation score @ Epoch 238/250\n",
    "max(history_4.history['val_accuracy'])"
   ]
  },
  {
   "cell_type": "code",
   "execution_count": null,
   "metadata": {},
   "outputs": [],
   "source": [
    "model_4.evaluate(X_test, y_test)"
   ]
  },
  {
   "cell_type": "code",
   "execution_count": null,
   "metadata": {},
   "outputs": [],
   "source": [
    "plot_summary_results(model_4, history_4, 250)"
   ]
  },
  {
   "cell_type": "markdown",
   "metadata": {},
   "source": [
    "## Save the model and weights"
   ]
  },
  {
   "cell_type": "code",
   "execution_count": null,
   "metadata": {},
   "outputs": [],
   "source": [
    "model_path = '/content/drive/My Drive/Colab Notebooks/Face_Shape_Classification/saved_models/extra/'\n",
    "tf.keras.models.save_model(\n",
    "    model_4, filepath=model_path, overwrite=True, include_optimizer=True, save_format=None,\n",
    "    signatures=None, options=None)\n",
    "\n",
    "filename = model_path + 'rgb_oct12_3'   # change the filename for new iterations\n",
    "model_4.save(filename)"
   ]
  },
  {
   "cell_type": "markdown",
   "metadata": {},
   "source": [
    "### Check if saved succesfully"
   ]
  },
  {
   "cell_type": "code",
   "execution_count": null,
   "metadata": {},
   "outputs": [],
   "source": [
    "# Load in the saved model\n",
    "\n",
    "loaded_model = tf.keras.models.load_model(filename)\n",
    "\n",
    "# Compare the predictions from the model_4 vs. the saved version of model_4\n",
    "mod4_predict = model_4.predict_classes(X_test)\n",
    "loaded4_predict = loaded_model.predict_classes(X_test)"
   ]
  },
  {
   "cell_type": "code",
   "execution_count": null,
   "metadata": {},
   "outputs": [],
   "source": [
    "# Check the difference\n",
    "\n",
    "print(f'Difference in predictions: Saved model vs. original model is {np.sum(loaded4_predict - mod4_predict)}')"
   ]
  },
  {
   "cell_type": "markdown",
   "metadata": {},
   "source": [
    "The difference = 0 means the file is saved correctly!"
   ]
  }
 ],
 "metadata": {
  "kernelspec": {
   "display_name": "Python 3",
   "language": "python",
   "name": "python3"
  },
  "language_info": {
   "codemirror_mode": {
    "name": "ipython",
    "version": 3
   },
   "file_extension": ".py",
   "mimetype": "text/x-python",
   "name": "python",
   "nbconvert_exporter": "python",
   "pygments_lexer": "ipython3",
   "version": "3.12.2"
  }
 },
 "nbformat": 4,
 "nbformat_minor": 2
}
