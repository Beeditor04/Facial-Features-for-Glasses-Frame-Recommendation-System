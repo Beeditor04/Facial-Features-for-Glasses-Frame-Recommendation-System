{
 "cells": [
  {
   "cell_type": "code",
   "execution_count": 1,
   "metadata": {},
   "outputs": [],
   "source": [
    "import cv2\n",
    "import numpy as np\n",
    "import dlib\n",
    "import os\n",
    "from sklearn.cluster import KMeans\n",
    "from matplotlib import pyplot as plt\n",
    "from skimage.feature import hog\n",
    "from skimage import exposure"
   ]
  },
  {
   "cell_type": "code",
   "execution_count": 2,
   "metadata": {},
   "outputs": [],
   "source": [
    "dir_train = r'.\\cropped_dataset\\train'\n",
    "dir_test = r'.\\cropped_dataset\\test'\n",
    "dir_model = r'.\\model'\n",
    "\n",
    "\n",
    "detector = dlib.get_frontal_face_detector()\n",
    "predictor = dlib.shape_predictor(dir_model + \"\\\\\" + \"shape_predictor_68_face_landmarks.dat\")"
   ]
  },
  {
   "cell_type": "code",
   "execution_count": 3,
   "metadata": {},
   "outputs": [],
   "source": [
    "def edge_segmentation(image):\n",
    "    edges = cv2.Canny(image, 100, 200)\n",
    "    return edges\n",
    "\n",
    "# Feature extraction (dummy example)\n",
    "\n",
    "def extract_features(image):\n",
    "    # Resize the image to 128x128\n",
    "    image_resized = cv2.resize(image, (256, 256))\n",
    "    # Compute HOG descriptors\n",
    "    features, hog_image = hog(image_resized, orientations=9, pixels_per_cell=(8, 8),\n",
    "                              cells_per_block=(4, 4), block_norm=\"L2\", visualize=True)\n",
    "    return features, hog_image\n",
    "\n",
    "def apply_kmeans(image, n_clusters=4):\n",
    "    pixels = image.reshape(-1, 3)\n",
    "    kmeans = KMeans(n_clusters=n_clusters, n_init=\"auto\")\n",
    "    kmeans.fit(pixels)\n",
    "    \n",
    "    segmented_image = kmeans.cluster_centers_[kmeans.labels_]\n",
    "    segmented_image = segmented_image.reshape(image.shape).astype('uint8')\n",
    "\n",
    "    return segmented_image"
   ]
  },
  {
   "cell_type": "markdown",
   "metadata": {},
   "source": [
    "### Image augmentation (put your feature engineering here)"
   ]
  },
  {
   "cell_type": "code",
   "execution_count": null,
   "metadata": {},
   "outputs": [],
   "source": [
    "### Bla bla bla"
   ]
  },
  {
   "cell_type": "markdown",
   "metadata": {},
   "source": [
    "## ĐÂY LÀ PHẦN BUILD MODEL"
   ]
  },
  {
   "cell_type": "markdown",
   "metadata": {},
   "source": [
    "- Explain why each layers you use that parameters"
   ]
  },
  {
   "cell_type": "code",
   "execution_count": null,
   "metadata": {},
   "outputs": [],
   "source": [
    "# Bla bla bla"
   ]
  },
  {
   "cell_type": "markdown",
   "metadata": {},
   "source": [
    "### After that, save model for evalutation"
   ]
  }
 ],
 "metadata": {
  "kernelspec": {
   "display_name": "base",
   "language": "python",
   "name": "python3"
  },
  "language_info": {
   "codemirror_mode": {
    "name": "ipython",
    "version": 3
   },
   "file_extension": ".py",
   "mimetype": "text/x-python",
   "name": "python",
   "nbconvert_exporter": "python",
   "pygments_lexer": "ipython3",
   "version": "3.11.7"
  }
 },
 "nbformat": 4,
 "nbformat_minor": 2
}
