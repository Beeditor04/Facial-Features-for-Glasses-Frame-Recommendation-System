{
 "cells": [
  {
   "cell_type": "markdown",
   "metadata": {},
   "source": [
    "# Image augmentation (put your feature engineering here)"
   ]
  },
  {
   "cell_type": "code",
   "execution_count": null,
   "metadata": {},
   "outputs": [],
   "source": [
    "# Import necessary libraries\n",
    "import os\n",
    "import cv2\n",
    "import numpy as np\n",
    "from keras.preprocessing.image import ImageDataGenerator\n",
    "from keras.utils import to_categorical\n",
    "\n",
    "# Create an instance of ImageDataGenerator with specified augmentations\n",
    "datagen = ImageDataGenerator(rotation_range=20, horizontal_flip=True)\n",
    "\n",
    "def feature_engineering_and_augmentation(path, img_size=(224, 224)):\n",
    "    labels = []\n",
    "    images = []\n",
    "    shape_types = ['Heart', 'Oblong', 'Oval', 'Round', 'Square']\n",
    "    \n",
    "    for shape in shape_types:\n",
    "        print(f'Loading {shape} images...')\n",
    "        shape_dir = os.path.join(path, shape)\n",
    "        if not os.path.exists(shape_dir):\n",
    "            print(f\"Directory {shape_dir} does not exist.\")\n",
    "            continue\n",
    "        for imgName in os.listdir(shape_dir):\n",
    "            img_path = os.path.join(shape_dir, imgName)\n",
    "            if not os.path.isfile(img_path):\n",
    "                print(f\"File {img_path} does not exist.\")\n",
    "                continue\n",
    "            img = cv2.imread(img_path)\n",
    "            if img is None:\n",
    "                print(f\"Image {img_path} could not be read.\")\n",
    "                continue\n",
    "            # Resize image to the desired size (224, 224)\n",
    "            img = cv2.resize(img, img_size)\n",
    "            # Normalize image to range [0, 1]\n",
    "            img = img.astype('float32') / 255.0\n",
    "            images.append(img)\n",
    "            labels.append(shape_types.index(shape))\n",
    "\n",
    "    # Convert lists to numpy arrays\n",
    "    images = np.array(images)\n",
    "    labels = to_categorical(labels, num_classes=len(shape_types))\n",
    "\n",
    "    # Augment the images\n",
    "    augmented_images = []\n",
    "    for img in images:\n",
    "        img = np.expand_dims(img, axis=0)  # Prepare the image for the generator\n",
    "        augmented_iter = datagen.flow(img, batch_size=1)\n",
    "        augmented_img = next(augmented_iter)[0]  # Get the augmented image\n",
    "        augmented_images.append(augmented_img)\n",
    "\n",
    "    augmented_images = np.array(augmented_images)\n",
    "\n",
    "    return augmented_images, labels\n"
   ]
  }
 ],
 "metadata": {
  "kernelspec": {
   "display_name": "base",
   "language": "python",
   "name": "python3"
  },
  "language_info": {
   "codemirror_mode": {
    "name": "ipython",
    "version": 3
   },
   "file_extension": ".py",
   "mimetype": "text/x-python",
   "name": "python",
   "nbconvert_exporter": "python",
   "pygments_lexer": "ipython3",
   "version": "3.11.7"
  }
 },
 "nbformat": 4,
 "nbformat_minor": 2
}
