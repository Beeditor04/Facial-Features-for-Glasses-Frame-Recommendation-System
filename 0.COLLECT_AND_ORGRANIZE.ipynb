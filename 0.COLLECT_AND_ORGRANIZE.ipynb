{
 "cells": [
  {
   "cell_type": "markdown",
   "metadata": {},
   "source": [
    "### 1. Delete random training images (limit to 800 images for 80/20 split)"
   ]
  },
  {
   "cell_type": "code",
   "execution_count": 1,
   "metadata": {},
   "outputs": [],
   "source": [
    "import os\n",
    "import random\n",
    "type = ['Women', 'Men']\n",
    "# Directory containing the images\n",
    "folders = [\"Heart\", \"Oblong\", \"Oval\", \"Round\", \"Square\"]\n",
    "for folder in folders:\n",
    "    dir_path = os.path.join('./cropped_dataset/train/', folder)\n",
    "\n",
    "    # Get a list of all file names in the directory\n",
    "    file_names = os.listdir(dir_path)\n",
    "\n",
    "    # Make sure there are more than 800 images\n",
    "    if len(file_names) > 800:\n",
    "        file_names_to_delete = random.sample(file_names, len(file_names) - 800)\n",
    "\n",
    "        # Delete the selected files\n",
    "        for file_name in file_names_to_delete:\n",
    "            os.remove(os.path.join(dir_path, file_name))"
   ]
  },
  {
   "cell_type": "markdown",
   "metadata": {},
   "source": [
    "### 2. Rename every images for the same format"
   ]
  },
  {
   "cell_type": "code",
   "execution_count": 5,
   "metadata": {},
   "outputs": [],
   "source": [
    "folders = [\"Heart\", \"Oblong\", \"Oval\", \"Round\", \"Square\"]\n",
    "for folder in folders:\n",
    "    dir_path = os.path.join('./cropped_dataset/train/', folder)\n",
    "    file_names = os.listdir(dir_path)\n",
    "\n",
    "    for index, file_name in enumerate(file_names):\n",
    "        old_file_path = os.path.join(dir_path, file_name)\n",
    "        # Create new file name as \"{folder} {index}\"\n",
    "        new_file_name = f\"{folder} ({index}).jpg\"  # Assuming the files are jpg images\n",
    "        new_file_path = os.path.join(dir_path, new_file_name)\n",
    "        os.rename(old_file_path, new_file_path)"
   ]
  },
  {
   "cell_type": "markdown",
   "metadata": {},
   "source": [
    "### 3. Do it the same as testing folder (200 images only)"
   ]
  },
  {
   "cell_type": "code",
   "execution_count": 8,
   "metadata": {},
   "outputs": [],
   "source": [
    "import os\n",
    "import random\n",
    "\n",
    "# Directory containing the images\n",
    "folders = [\"Heart\", \"Oblong\", \"Oval\", \"Round\", \"Square\"]\n",
    "for folder in folders:\n",
    "    dir_path = os.path.join('./cropped_dataset/test/', folder)\n",
    "\n",
    "    # Get a list of all file names in the directory\n",
    "    file_names = os.listdir(dir_path)\n",
    "\n",
    "    # Make sure there are more than 200 images\n",
    "    if len(file_names) > 200:\n",
    "        file_names_to_delete = random.sample(file_names, len(file_names) - 200)\n",
    "\n",
    "        # Delete the selected files\n",
    "        for file_name in file_names_to_delete:\n",
    "            os.remove(os.path.join(dir_path, file_name))"
   ]
  },
  {
   "cell_type": "code",
   "execution_count": 7,
   "metadata": {},
   "outputs": [],
   "source": [
    "folders = [\"Heart\", \"Oblong\", \"Oval\", \"Round\", \"Square\"]\n",
    "for folder in folders:\n",
    "    dir_path = os.path.join('./cropped_dataset/test/', folder)\n",
    "    file_names = os.listdir(dir_path)\n",
    "\n",
    "    for index, file_name in enumerate(file_names):\n",
    "        old_file_path = os.path.join(dir_path, file_name)\n",
    "        # Create new file name as \"{folder} {index}\"\n",
    "        new_file_name = f\"{folder} ({index}).jpg\"  # Assuming the files are jpg images\n",
    "        new_file_path = os.path.join(dir_path, new_file_name)\n",
    "        os.rename(old_file_path, new_file_path)"
   ]
  }
 ],
 "metadata": {
  "kernelspec": {
   "display_name": "base",
   "language": "python",
   "name": "python3"
  },
  "language_info": {
   "codemirror_mode": {
    "name": "ipython",
    "version": 3
   },
   "file_extension": ".py",
   "mimetype": "text/x-python",
   "name": "python",
   "nbconvert_exporter": "python",
   "pygments_lexer": "ipython3",
   "version": "3.11.7"
  }
 },
 "nbformat": 4,
 "nbformat_minor": 2
}
