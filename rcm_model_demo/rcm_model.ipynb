{
 "cells": [
  {
   "cell_type": "code",
   "execution_count": 1,
   "metadata": {},
   "outputs": [],
   "source": [
    "import pandas as pd\n",
    "import numpy as np\n",
    "from sklearn.model_selection import train_test_split\n",
    "from sklearn.preprocessing import OneHotEncoder, StandardScaler\n",
    "from sklearn.neighbors import NearestNeighbors"
   ]
  },
  {
   "cell_type": "code",
   "execution_count": 3,
   "metadata": {},
   "outputs": [],
   "source": [
    "df = pd.read_csv('eyewear_data_full_v1.csv') "
   ]
  },
  {
   "cell_type": "code",
   "execution_count": 4,
   "metadata": {},
   "outputs": [
    {
     "data": {
      "text/html": [
       "<div>\n",
       "<style scoped>\n",
       "    .dataframe tbody tr th:only-of-type {\n",
       "        vertical-align: middle;\n",
       "    }\n",
       "\n",
       "    .dataframe tbody tr th {\n",
       "        vertical-align: top;\n",
       "    }\n",
       "\n",
       "    .dataframe thead th {\n",
       "        text-align: right;\n",
       "    }\n",
       "</style>\n",
       "<table border=\"1\" class=\"dataframe\">\n",
       "  <thead>\n",
       "    <tr style=\"text-align: right;\">\n",
       "      <th></th>\n",
       "      <th>id</th>\n",
       "      <th>image_src</th>\n",
       "      <th>shape</th>\n",
       "      <th>lens_width</th>\n",
       "      <th>gender</th>\n",
       "      <th>color</th>\n",
       "      <th>face_shape</th>\n",
       "      <th>skin</th>\n",
       "      <th>width</th>\n",
       "    </tr>\n",
       "  </thead>\n",
       "  <tbody>\n",
       "    <tr>\n",
       "      <th>0</th>\n",
       "      <td>7.146340e+12</td>\n",
       "      <td>https://cdn.shopify.com/s/files/1/0387/1417/96...</td>\n",
       "      <td>rectangle</td>\n",
       "      <td>55</td>\n",
       "      <td>male</td>\n",
       "      <td>gold</td>\n",
       "      <td>oval</td>\n",
       "      <td>dark</td>\n",
       "      <td>54</td>\n",
       "    </tr>\n",
       "    <tr>\n",
       "      <th>1</th>\n",
       "      <td>7.146340e+12</td>\n",
       "      <td>https://cdn.shopify.com/s/files/1/0387/1417/96...</td>\n",
       "      <td>rectangle</td>\n",
       "      <td>55</td>\n",
       "      <td>female</td>\n",
       "      <td>black</td>\n",
       "      <td>oval</td>\n",
       "      <td>dark</td>\n",
       "      <td>54</td>\n",
       "    </tr>\n",
       "    <tr>\n",
       "      <th>2</th>\n",
       "      <td>7.146340e+12</td>\n",
       "      <td>https://cdn.shopify.com/s/files/1/0387/1417/96...</td>\n",
       "      <td>rectangle</td>\n",
       "      <td>55</td>\n",
       "      <td>male</td>\n",
       "      <td>black</td>\n",
       "      <td>oval</td>\n",
       "      <td>dark</td>\n",
       "      <td>54</td>\n",
       "    </tr>\n",
       "    <tr>\n",
       "      <th>3</th>\n",
       "      <td>7.147830e+12</td>\n",
       "      <td>https://cdn.shopify.com/s/files/1/0387/1417/96...</td>\n",
       "      <td>rectangle</td>\n",
       "      <td>53</td>\n",
       "      <td>male</td>\n",
       "      <td>black</td>\n",
       "      <td>oval</td>\n",
       "      <td>dark</td>\n",
       "      <td>52</td>\n",
       "    </tr>\n",
       "    <tr>\n",
       "      <th>4</th>\n",
       "      <td>6.975850e+12</td>\n",
       "      <td>https://cdn.shopify.com/s/files/1/0387/1417/96...</td>\n",
       "      <td>rectangle</td>\n",
       "      <td>52</td>\n",
       "      <td>female</td>\n",
       "      <td>pink</td>\n",
       "      <td>oval</td>\n",
       "      <td>light</td>\n",
       "      <td>51</td>\n",
       "    </tr>\n",
       "    <tr>\n",
       "      <th>...</th>\n",
       "      <td>...</td>\n",
       "      <td>...</td>\n",
       "      <td>...</td>\n",
       "      <td>...</td>\n",
       "      <td>...</td>\n",
       "      <td>...</td>\n",
       "      <td>...</td>\n",
       "      <td>...</td>\n",
       "      <td>...</td>\n",
       "    </tr>\n",
       "    <tr>\n",
       "      <th>533</th>\n",
       "      <td>5.310250e+12</td>\n",
       "      <td>https://cdn.shopify.com/s/files/1/0387/1417/96...</td>\n",
       "      <td>aviator</td>\n",
       "      <td>51</td>\n",
       "      <td>male</td>\n",
       "      <td>black</td>\n",
       "      <td>round</td>\n",
       "      <td>light</td>\n",
       "      <td>52</td>\n",
       "    </tr>\n",
       "    <tr>\n",
       "      <th>534</th>\n",
       "      <td>5.310250e+12</td>\n",
       "      <td>https://cdn.shopify.com/s/files/1/0387/1417/96...</td>\n",
       "      <td>aviator</td>\n",
       "      <td>53</td>\n",
       "      <td>male</td>\n",
       "      <td>black</td>\n",
       "      <td>round</td>\n",
       "      <td>light</td>\n",
       "      <td>54</td>\n",
       "    </tr>\n",
       "    <tr>\n",
       "      <th>535</th>\n",
       "      <td>5.310260e+12</td>\n",
       "      <td>https://cdn.shopify.com/s/files/1/0387/1417/96...</td>\n",
       "      <td>aviator</td>\n",
       "      <td>56</td>\n",
       "      <td>male</td>\n",
       "      <td>gold</td>\n",
       "      <td>round</td>\n",
       "      <td>light</td>\n",
       "      <td>57</td>\n",
       "    </tr>\n",
       "    <tr>\n",
       "      <th>536</th>\n",
       "      <td>5.320210e+12</td>\n",
       "      <td>https://cdn.shopify.com/s/files/1/0387/1417/96...</td>\n",
       "      <td>aviator</td>\n",
       "      <td>56</td>\n",
       "      <td>male</td>\n",
       "      <td>gold</td>\n",
       "      <td>round</td>\n",
       "      <td>light</td>\n",
       "      <td>57</td>\n",
       "    </tr>\n",
       "    <tr>\n",
       "      <th>537</th>\n",
       "      <td>6.609830e+12</td>\n",
       "      <td>https://cdn.shopify.com/s/files/1/0387/1417/96...</td>\n",
       "      <td>aviator</td>\n",
       "      <td>55</td>\n",
       "      <td>male</td>\n",
       "      <td>gold</td>\n",
       "      <td>round</td>\n",
       "      <td>light</td>\n",
       "      <td>56</td>\n",
       "    </tr>\n",
       "  </tbody>\n",
       "</table>\n",
       "<p>538 rows × 9 columns</p>\n",
       "</div>"
      ],
      "text/plain": [
       "               id                                          image_src  \\\n",
       "0    7.146340e+12  https://cdn.shopify.com/s/files/1/0387/1417/96...   \n",
       "1    7.146340e+12  https://cdn.shopify.com/s/files/1/0387/1417/96...   \n",
       "2    7.146340e+12  https://cdn.shopify.com/s/files/1/0387/1417/96...   \n",
       "3    7.147830e+12  https://cdn.shopify.com/s/files/1/0387/1417/96...   \n",
       "4    6.975850e+12  https://cdn.shopify.com/s/files/1/0387/1417/96...   \n",
       "..            ...                                                ...   \n",
       "533  5.310250e+12  https://cdn.shopify.com/s/files/1/0387/1417/96...   \n",
       "534  5.310250e+12  https://cdn.shopify.com/s/files/1/0387/1417/96...   \n",
       "535  5.310260e+12  https://cdn.shopify.com/s/files/1/0387/1417/96...   \n",
       "536  5.320210e+12  https://cdn.shopify.com/s/files/1/0387/1417/96...   \n",
       "537  6.609830e+12  https://cdn.shopify.com/s/files/1/0387/1417/96...   \n",
       "\n",
       "         shape  lens_width  gender  color face_shape   skin  width  \n",
       "0    rectangle          55    male   gold       oval   dark     54  \n",
       "1    rectangle          55  female  black       oval   dark     54  \n",
       "2    rectangle          55    male  black       oval   dark     54  \n",
       "3    rectangle          53    male  black       oval   dark     52  \n",
       "4    rectangle          52  female   pink       oval  light     51  \n",
       "..         ...         ...     ...    ...        ...    ...    ...  \n",
       "533    aviator          51    male  black      round  light     52  \n",
       "534    aviator          53    male  black      round  light     54  \n",
       "535    aviator          56    male   gold      round  light     57  \n",
       "536    aviator          56    male   gold      round  light     57  \n",
       "537    aviator          55    male   gold      round  light     56  \n",
       "\n",
       "[538 rows x 9 columns]"
      ]
     },
     "execution_count": 4,
     "metadata": {},
     "output_type": "execute_result"
    }
   ],
   "source": [
    "df"
   ]
  },
  {
   "cell_type": "code",
   "execution_count": 5,
   "metadata": {},
   "outputs": [],
   "source": [
    "features = df[['gender', 'face_shape', 'skin', 'width']]"
   ]
  },
  {
   "cell_type": "code",
   "execution_count": 6,
   "metadata": {},
   "outputs": [],
   "source": [
    "categorical_features = ['gender', 'face_shape', 'skin']\n",
    "encoder = OneHotEncoder()\n",
    "encoded_features = encoder.fit_transform(features[categorical_features]).toarray()"
   ]
  },
  {
   "cell_type": "code",
   "execution_count": 7,
   "metadata": {},
   "outputs": [],
   "source": [
    "scaler = StandardScaler()\n",
    "numerical_features = scaler.fit_transform(features[['width']])"
   ]
  },
  {
   "cell_type": "code",
   "execution_count": 8,
   "metadata": {},
   "outputs": [],
   "source": [
    "all_features = np.hstack([encoded_features, numerical_features])"
   ]
  },
  {
   "cell_type": "code",
   "execution_count": 20,
   "metadata": {},
   "outputs": [
    {
     "data": {
      "text/html": [
       "<style>#sk-container-id-2 {color: black;background-color: white;}#sk-container-id-2 pre{padding: 0;}#sk-container-id-2 div.sk-toggleable {background-color: white;}#sk-container-id-2 label.sk-toggleable__label {cursor: pointer;display: block;width: 100%;margin-bottom: 0;padding: 0.3em;box-sizing: border-box;text-align: center;}#sk-container-id-2 label.sk-toggleable__label-arrow:before {content: \"▸\";float: left;margin-right: 0.25em;color: #696969;}#sk-container-id-2 label.sk-toggleable__label-arrow:hover:before {color: black;}#sk-container-id-2 div.sk-estimator:hover label.sk-toggleable__label-arrow:before {color: black;}#sk-container-id-2 div.sk-toggleable__content {max-height: 0;max-width: 0;overflow: hidden;text-align: left;background-color: #f0f8ff;}#sk-container-id-2 div.sk-toggleable__content pre {margin: 0.2em;color: black;border-radius: 0.25em;background-color: #f0f8ff;}#sk-container-id-2 input.sk-toggleable__control:checked~div.sk-toggleable__content {max-height: 200px;max-width: 100%;overflow: auto;}#sk-container-id-2 input.sk-toggleable__control:checked~label.sk-toggleable__label-arrow:before {content: \"▾\";}#sk-container-id-2 div.sk-estimator input.sk-toggleable__control:checked~label.sk-toggleable__label {background-color: #d4ebff;}#sk-container-id-2 div.sk-label input.sk-toggleable__control:checked~label.sk-toggleable__label {background-color: #d4ebff;}#sk-container-id-2 input.sk-hidden--visually {border: 0;clip: rect(1px 1px 1px 1px);clip: rect(1px, 1px, 1px, 1px);height: 1px;margin: -1px;overflow: hidden;padding: 0;position: absolute;width: 1px;}#sk-container-id-2 div.sk-estimator {font-family: monospace;background-color: #f0f8ff;border: 1px dotted black;border-radius: 0.25em;box-sizing: border-box;margin-bottom: 0.5em;}#sk-container-id-2 div.sk-estimator:hover {background-color: #d4ebff;}#sk-container-id-2 div.sk-parallel-item::after {content: \"\";width: 100%;border-bottom: 1px solid gray;flex-grow: 1;}#sk-container-id-2 div.sk-label:hover label.sk-toggleable__label {background-color: #d4ebff;}#sk-container-id-2 div.sk-serial::before {content: \"\";position: absolute;border-left: 1px solid gray;box-sizing: border-box;top: 0;bottom: 0;left: 50%;z-index: 0;}#sk-container-id-2 div.sk-serial {display: flex;flex-direction: column;align-items: center;background-color: white;padding-right: 0.2em;padding-left: 0.2em;position: relative;}#sk-container-id-2 div.sk-item {position: relative;z-index: 1;}#sk-container-id-2 div.sk-parallel {display: flex;align-items: stretch;justify-content: center;background-color: white;position: relative;}#sk-container-id-2 div.sk-item::before, #sk-container-id-2 div.sk-parallel-item::before {content: \"\";position: absolute;border-left: 1px solid gray;box-sizing: border-box;top: 0;bottom: 0;left: 50%;z-index: -1;}#sk-container-id-2 div.sk-parallel-item {display: flex;flex-direction: column;z-index: 1;position: relative;background-color: white;}#sk-container-id-2 div.sk-parallel-item:first-child::after {align-self: flex-end;width: 50%;}#sk-container-id-2 div.sk-parallel-item:last-child::after {align-self: flex-start;width: 50%;}#sk-container-id-2 div.sk-parallel-item:only-child::after {width: 0;}#sk-container-id-2 div.sk-dashed-wrapped {border: 1px dashed gray;margin: 0 0.4em 0.5em 0.4em;box-sizing: border-box;padding-bottom: 0.4em;background-color: white;}#sk-container-id-2 div.sk-label label {font-family: monospace;font-weight: bold;display: inline-block;line-height: 1.2em;}#sk-container-id-2 div.sk-label-container {text-align: center;}#sk-container-id-2 div.sk-container {/* jupyter's `normalize.less` sets `[hidden] { display: none; }` but bootstrap.min.css set `[hidden] { display: none !important; }` so we also need the `!important` here to be able to override the default hidden behavior on the sphinx rendered scikit-learn.org. See: https://github.com/scikit-learn/scikit-learn/issues/21755 */display: inline-block !important;position: relative;}#sk-container-id-2 div.sk-text-repr-fallback {display: none;}</style><div id=\"sk-container-id-2\" class=\"sk-top-container\"><div class=\"sk-text-repr-fallback\"><pre>NearestNeighbors()</pre><b>In a Jupyter environment, please rerun this cell to show the HTML representation or trust the notebook. <br />On GitHub, the HTML representation is unable to render, please try loading this page with nbviewer.org.</b></div><div class=\"sk-container\" hidden><div class=\"sk-item\"><div class=\"sk-estimator sk-toggleable\"><input class=\"sk-toggleable__control sk-hidden--visually\" id=\"sk-estimator-id-2\" type=\"checkbox\" checked><label for=\"sk-estimator-id-2\" class=\"sk-toggleable__label sk-toggleable__label-arrow\">NearestNeighbors</label><div class=\"sk-toggleable__content\"><pre>NearestNeighbors()</pre></div></div></div></div></div>"
      ],
      "text/plain": [
       "NearestNeighbors()"
      ]
     },
     "execution_count": 20,
     "metadata": {},
     "output_type": "execute_result"
    }
   ],
   "source": [
    "model = NearestNeighbors(n_neighbors=5)\n",
    "model.fit(all_features)"
   ]
  },
  {
   "cell_type": "code",
   "execution_count": 21,
   "metadata": {},
   "outputs": [],
   "source": [
    "def preprocess_item(item, encoder, scaler):\n",
    "    item_df = pd.DataFrame([item])\n",
    "    encoded_item = encoder.transform(item_df[categorical_features]).toarray()\n",
    "    scaled_numerical_item = scaler.transform(item_df[['width']])\n",
    "    return np.hstack([encoded_item, scaled_numerical_item])"
   ]
  },
  {
   "cell_type": "code",
   "execution_count": 43,
   "metadata": {},
   "outputs": [],
   "source": [
    "new_user = {'gender': 'female', 'face_shape': 'heart', 'skin': 'light', 'width': 54}"
   ]
  },
  {
   "cell_type": "code",
   "execution_count": 44,
   "metadata": {},
   "outputs": [],
   "source": [
    "new_user_features = preprocess_item(new_user, encoder, scaler).reshape(1, -1)\n",
    "\n",
    "# Find the nearest neighbors for the new user\n",
    "distances, indices = model.kneighbors(new_user_features)"
   ]
  },
  {
   "cell_type": "code",
   "execution_count": 45,
   "metadata": {},
   "outputs": [],
   "source": [
    "# Get the index of the best match\n",
    "best_match_index = indices[0]\n",
    "\n",
    "# Find the best matching glasses for the new user\n",
    "best_match = df.iloc[best_match_index]"
   ]
  },
  {
   "cell_type": "code",
   "execution_count": 46,
   "metadata": {},
   "outputs": [
    {
     "name": "stdout",
     "output_type": "stream",
     "text": [
      "Best matching glasses:\n",
      "Image URL: https://cdn.shopify.com/s/files/1/0387/1417/9628/files/ORP1900849_1.jpg?v=1705277330\n",
      "Image URL: https://cdn.shopify.com/s/files/1/0387/1417/9628/products/LSO1926615_1_9a43ecd1-cb4c-4af3-b9bb-d32eba384b83.jpg?v=1603958540\n",
      "Image URL: https://cdn.shopify.com/s/files/1/0387/1417/9628/files/GG1476OK001_1.jpg?v=1689328302\n",
      "Image URL: https://cdn.shopify.com/s/files/1/0387/1417/9628/products/ORP2100863_1.jpg?v=1627363005\n",
      "Image URL: https://cdn.shopify.com/s/files/1/0387/1417/9628/files/ORP1800833_1.jpg?v=1705277234\n"
     ]
    }
   ],
   "source": [
    "print('Best matching glasses:')\n",
    "for idx, row in best_match.iterrows():\n",
    "    print(f\"Image URL: {row['image_src']}\")"
   ]
  },
  {
   "cell_type": "code",
   "execution_count": 47,
   "metadata": {},
   "outputs": [
    {
     "data": {
      "text/plain": [
       "['scaler.pkl']"
      ]
     },
     "execution_count": 47,
     "metadata": {},
     "output_type": "execute_result"
    }
   ],
   "source": [
    "import joblib\n",
    "joblib.dump(model, 'nearest_neighbors_model.pkl')\n",
    "\n",
    "# Save the encoder and scaler as well\n",
    "joblib.dump(encoder, 'encoder.pkl')\n",
    "joblib.dump(scaler, 'scaler.pkl')"
   ]
  },
  {
   "cell_type": "code",
   "execution_count": null,
   "metadata": {},
   "outputs": [],
   "source": []
  }
 ],
 "metadata": {
  "kernelspec": {
   "display_name": "example_conda_using",
   "language": "python",
   "name": "python3"
  },
  "language_info": {
   "codemirror_mode": {
    "name": "ipython",
    "version": 3
   },
   "file_extension": ".py",
   "mimetype": "text/x-python",
   "name": "python",
   "nbconvert_exporter": "python",
   "pygments_lexer": "ipython3",
   "version": "3.11.5"
  }
 },
 "nbformat": 4,
 "nbformat_minor": 2
}
